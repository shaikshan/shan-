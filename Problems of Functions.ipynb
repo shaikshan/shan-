{
 "cells": [
  {
   "cell_type": "code",
   "execution_count": 2,
   "id": "d1cddf1e",
   "metadata": {},
   "outputs": [],
   "source": [
    "\"\"\"Write a fun which will take input as a dict and give me out as a list of all the values \n",
    "even in case of 2 level nesting it should work\"\"\" \n",
    "\n",
    "def fun1(a):\n",
    "    \"\"\"this function allows you to extract values of a dictionary and return in list form\"\"\"\n",
    "    n =[]\n",
    "    if type(a) == dict:\n",
    "            for i in a.values():\n",
    "                if type(i) == int:\n",
    "                    n.append(i)\n",
    "                elif type(i) == dict:\n",
    "                    for j in i.values():\n",
    "                        n.append(j)\n",
    "    return n"
   ]
  },
  {
   "cell_type": "code",
   "execution_count": 4,
   "id": "239e136b",
   "metadata": {},
   "outputs": [],
   "source": [
    "d = {'key1':1,'key2':2,'key':{'key3':3,'key4':4}}"
   ]
  },
  {
   "cell_type": "code",
   "execution_count": 5,
   "id": "7139c7f6",
   "metadata": {},
   "outputs": [
    {
     "data": {
      "text/plain": [
       "list"
      ]
     },
     "execution_count": 5,
     "metadata": {},
     "output_type": "execute_result"
    }
   ],
   "source": [
    "\n",
    "type(fun1(d))"
   ]
  },
  {
   "cell_type": "code",
   "execution_count": 6,
   "id": "18b7914d",
   "metadata": {},
   "outputs": [
    {
     "data": {
      "text/plain": [
       "[1, 2, 3, 4]"
      ]
     },
     "execution_count": 6,
     "metadata": {},
     "output_type": "execute_result"
    }
   ],
   "source": [
    "fun1(d)"
   ]
  },
  {
   "cell_type": "code",
   "execution_count": 7,
   "id": "05faa706",
   "metadata": {},
   "outputs": [],
   "source": [
    "# 1.create a new length function."
   ]
  },
  {
   "cell_type": "code",
   "execution_count": 8,
   "id": "39630847",
   "metadata": {},
   "outputs": [],
   "source": [
    "def fun2(a):\n",
    "    \"\"\" this funtion allows to find the length of a variable.\"\"\"\n",
    "    count = 0\n",
    "    for i in a:\n",
    "        count = count + 1\n",
    "    return count\n",
    "    "
   ]
  },
  {
   "cell_type": "code",
   "execution_count": 9,
   "id": "f3ee6d73",
   "metadata": {},
   "outputs": [],
   "source": [
    "l = 1,2,3,4,5,87,7,8,9"
   ]
  },
  {
   "cell_type": "code",
   "execution_count": 10,
   "id": "66e37c37",
   "metadata": {},
   "outputs": [
    {
     "data": {
      "text/plain": [
       "9"
      ]
     },
     "execution_count": 10,
     "metadata": {},
     "output_type": "execute_result"
    }
   ],
   "source": [
    "fun2(l)"
   ]
  },
  {
   "cell_type": "code",
   "execution_count": 11,
   "id": "9d87e0c4",
   "metadata": {},
   "outputs": [],
   "source": [
    "a = 'roshan'\n",
    "b = 'zameer'"
   ]
  },
  {
   "cell_type": "code",
   "execution_count": 12,
   "id": "0407caf4",
   "metadata": {},
   "outputs": [],
   "source": [
    "# 4.using funtion in funtion."
   ]
  },
  {
   "cell_type": "code",
   "execution_count": 13,
   "id": "59a88755",
   "metadata": {},
   "outputs": [],
   "source": [
    "def fun3():\n",
    "    \n",
    "    \"\"\"this function shows that the input length is 6,it works only when the entered string is 6\"\"\"\n",
    "\n",
    "    a = input()\n",
    "    b = 'zameer'\n",
    "    if fun2(a) == fun2(b):\n",
    "        return('lenght is 6')\n",
    "    else:\n",
    "       return('lenght is not 6')"
   ]
  },
  {
   "cell_type": "code",
   "execution_count": 14,
   "id": "3048d852",
   "metadata": {},
   "outputs": [],
   "source": [
    "r = 'roshan' \n"
   ]
  },
  {
   "cell_type": "code",
   "execution_count": 15,
   "id": "fe05d096",
   "metadata": {},
   "outputs": [
    {
     "name": "stdout",
     "output_type": "stream",
     "text": [
      "\n"
     ]
    },
    {
     "data": {
      "text/plain": [
       "'lenght is not 6'"
      ]
     },
     "execution_count": 15,
     "metadata": {},
     "output_type": "execute_result"
    }
   ],
   "source": [
    "fun3()"
   ]
  },
  {
   "cell_type": "code",
   "execution_count": 16,
   "id": "0b29a07c",
   "metadata": {},
   "outputs": [],
   "source": [
    "#5. write a function whihc will take multiple list as a input and give me concatnation of all the element as and output \"\"\""
   ]
  },
  {
   "cell_type": "code",
   "execution_count": 17,
   "id": "0a99b2f9",
   "metadata": {},
   "outputs": [],
   "source": [
    "l1 = [1,2,3,4,5,[1,2,3,4,56],[1,2,3,4,56,7,8]]"
   ]
  },
  {
   "cell_type": "code",
   "execution_count": 18,
   "id": "ffa3a4eb",
   "metadata": {},
   "outputs": [],
   "source": [
    "def fun4(a):\n",
    "    n = []\n",
    "    if type(a) == list:\n",
    "            for i in a:\n",
    "                if type(i)==int:\n",
    "                    n.append(i)\n",
    "                elif type(i)==list:\n",
    "                    for j in i:\n",
    "                        n.append(j)\n",
    "           \n",
    "    return n"
   ]
  },
  {
   "cell_type": "code",
   "execution_count": 19,
   "id": "2ddc0214",
   "metadata": {},
   "outputs": [
    {
     "data": {
      "text/plain": [
       "[1, 2, 3, 4, 5, 1, 2, 3, 4, 56, 1, 2, 3, 4, 56, 7, 8]"
      ]
     },
     "execution_count": 19,
     "metadata": {},
     "output_type": "execute_result"
    }
   ],
   "source": [
    "fun4(l1)"
   ]
  },
  {
   "cell_type": "code",
   "execution_count": 20,
   "id": "32b0c135",
   "metadata": {},
   "outputs": [],
   "source": [
    "l2 = [1,2,3,4,5,6,7,8,9]"
   ]
  },
  {
   "cell_type": "code",
   "execution_count": 26,
   "id": "46c3fd5f",
   "metadata": {},
   "outputs": [],
   "source": [
    "def fun5():\n",
    "    import os\n",
    "    shutdown = input('do you wish to shutdownyour computer? (yes/no):')\n",
    "    if shutdown == 'no':\n",
    "        exit()\n",
    "    else:\n",
    "        os.system(\"shutdown /s /t1\")"
   ]
  },
  {
   "cell_type": "code",
   "execution_count": 27,
   "id": "8b6a8f51",
   "metadata": {},
   "outputs": [
    {
     "name": "stdout",
     "output_type": "stream",
     "text": [
      "do you wish to shutdownyour computer? (yes/no):yes\n"
     ]
    }
   ],
   "source": [
    "fun5()"
   ]
  },
  {
   "cell_type": "code",
   "execution_count": null,
   "id": "19315486",
   "metadata": {},
   "outputs": [],
   "source": []
  }
 ],
 "metadata": {
  "kernelspec": {
   "display_name": "Python 3 (ipykernel)",
   "language": "python",
   "name": "python3"
  },
  "language_info": {
   "codemirror_mode": {
    "name": "ipython",
    "version": 3
   },
   "file_extension": ".py",
   "mimetype": "text/x-python",
   "name": "python",
   "nbconvert_exporter": "python",
   "pygments_lexer": "ipython3",
   "version": "3.9.7"
  }
 },
 "nbformat": 4,
 "nbformat_minor": 5
}
